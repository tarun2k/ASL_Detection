{
 "cells": [
  {
   "cell_type": "code",
   "execution_count": 13,
   "metadata": {},
   "outputs": [],
   "source": [
    "import cv2\n",
    "import numpy as np\n",
    "import keras\n",
    "import time\n",
    "import sys\n",
    "import keras\n",
    "from keras.models import load_model\n",
    "from keras import models,layers\n",
    "from keras import optimizers\n",
    "import tensorflow as tf"
   ]
  },
  {
   "cell_type": "code",
   "execution_count": 14,
   "metadata": {},
   "outputs": [],
   "source": [
    "model = load_model('asl_alphabet.h5')"
   ]
  },
  {
   "cell_type": "code",
   "execution_count": 12,
   "metadata": {},
   "outputs": [
    {
     "name": "stdout",
     "output_type": "stream",
     "text": [
      "a\n",
      "a \n",
      "a c\n"
     ]
    }
   ],
   "source": [
    "classes = ['a','b','c','d','e','f','g','h','i','j','k','l','m','n','o','p','q','r','s','t','u','v','w','x','y','z','del',' ','Nothing']\n",
    "\n",
    "cur_text = ''\n",
    "cap = cv2.VideoCapture(0)\n",
    "\n",
    "while(True):\n",
    "    ret, frame = cap.read()\n",
    "    cv2.rectangle(frame, (50, 50), (350, 350), (0, 255, 0), 3)\n",
    "    \n",
    "    cropped_image = frame[50:350, 50:350]\n",
    "    resized_frame = cv2.resize(cropped_image, (200,200))\n",
    "    reshaped_frame = (np.array(resized_frame)).reshape((1,200,200,3))\n",
    "    frame_for_model = reshaped_frame / 255\n",
    "    prediction = np.array(model.predict(frame_for_model))\n",
    "    predicted_class = classes[prediction.argmax()]      \n",
    "\n",
    "    prediction_probability = prediction[0, prediction.argmax()]\n",
    "    if prediction_probability > 0.2:\n",
    "        cv2.putText(frame, '{} - {:.2f}%'.format(predicted_class, prediction_probability * 100), \n",
    "                                    (10, 450), 1, 2, (255, 255, 0), 2, cv2.LINE_AA)\n",
    "        keypress = cv2.waitKey(1)\n",
    "        if keypress == ord('s'):\n",
    "            alph = predicted_class #chr(num+96)\n",
    "            cur_text += alph\n",
    "            print(cur_text)\n",
    "        elif keypress == ord('q'):\n",
    "            break\n",
    "    else:\n",
    "        cv2.putText(frame, 'space', (10, 450), 1, 2, (255, 255, 0), 2, cv2.LINE_AA)\n",
    "    \n",
    "    cv2.imshow('frame', frame)\n",
    "\n",
    "    k = cv2.waitKey(1) & 0xFF\n",
    "    if k == ord('q'):\n",
    "        break\n",
    "cap.release()\n",
    "cv2.destroyAllWindows()"
   ]
  },
  {
   "cell_type": "code",
   "execution_count": null,
   "metadata": {},
   "outputs": [],
   "source": [
    "cap.release()\n",
    "cv2.destroyAllWindows()"
   ]
  }
 ],
 "metadata": {
  "kernelspec": {
   "display_name": "Python 3",
   "language": "python",
   "name": "python3"
  },
  "language_info": {
   "codemirror_mode": {
    "name": "ipython",
    "version": 3
   },
   "file_extension": ".py",
   "mimetype": "text/x-python",
   "name": "python",
   "nbconvert_exporter": "python",
   "pygments_lexer": "ipython3",
   "version": "3.7.6"
  }
 },
 "nbformat": 4,
 "nbformat_minor": 4
}
